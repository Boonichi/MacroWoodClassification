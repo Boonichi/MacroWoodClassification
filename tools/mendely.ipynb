{
 "cells": [
  {
   "cell_type": "code",
   "execution_count": 2,
   "metadata": {},
   "outputs": [],
   "source": [
    "import os\n",
    "import shutil"
   ]
  },
  {
   "cell_type": "code",
   "execution_count": 5,
   "metadata": {},
   "outputs": [],
   "source": [
    "INPUT_DIR = \"../datasets/mendeley_dataset/\""
   ]
  },
  {
   "cell_type": "code",
   "execution_count": 9,
   "metadata": {},
   "outputs": [],
   "source": [
    "for wood_folder in os.listdir(INPUT_DIR):\n",
    "    wood_dir = os.path.join(INPUT_DIR, wood_folder)\n",
    "    if os.path.isfile(wood_dir) == False:\n",
    "        for trade_wood_folder in os.listdir(wood_dir):\n",
    "            trade_wood_dir = os.path.join(wood_dir, trade_wood_folder)\n",
    "            if os.path.isfile(trade_wood_dir) == False:\n",
    "                for img in os.listdir(trade_wood_dir):\n",
    "                    if img.endswith(\"png\") or img.endswith(\"jpg\") or img.endswith(\"bmp\"):\n",
    "                        src = os.path.join(trade_wood_dir, img)\n",
    "                        dst = os.path.join(wood_dir, img)\n",
    "\n",
    "                        shutil.move(src,dst)\n"
   ]
  }
 ],
 "metadata": {
  "kernelspec": {
   "display_name": "tf",
   "language": "python",
   "name": "python3"
  },
  "language_info": {
   "codemirror_mode": {
    "name": "ipython",
    "version": 3
   },
   "file_extension": ".py",
   "mimetype": "text/x-python",
   "name": "python",
   "nbconvert_exporter": "python",
   "pygments_lexer": "ipython3",
   "version": "3.9.13"
  },
  "orig_nbformat": 4
 },
 "nbformat": 4,
 "nbformat_minor": 2
}
