{
 "cells": [
  {
   "cell_type": "code",
   "execution_count": 10,
   "metadata": {},
   "outputs": [],
   "source": [
    "import os\n",
    "from pathlib import Path\n",
    "from tqdm import tqdm\n",
    "import shutil"
   ]
  },
  {
   "cell_type": "code",
   "execution_count": 11,
   "metadata": {},
   "outputs": [
    {
     "name": "stderr",
     "output_type": "stream",
     "text": [
      "100%|██████████| 704/704 [00:03<00:00, 206.10it/s]\n",
      "100%|██████████| 143/143 [00:00<00:00, 204.42it/s]\n",
      "100%|██████████| 806/806 [00:04<00:00, 200.65it/s]\n",
      "100%|██████████| 557/557 [00:02<00:00, 202.27it/s]\n",
      "100%|██████████| 732/732 [00:04<00:00, 150.46it/s]\n"
     ]
    }
   ],
   "source": [
    "DATA_DIR = \"../datasets/\"\n",
    "OUTPUT_DIR = \"../datasets/FSD_M\"\n",
    "for macro_folder in os.listdir(DATA_DIR):\n",
    "    if macro_folder.startswith(\"macroscopic\"):\n",
    "        macro_folder_path = os.path.join(DATA_DIR, macro_folder)\n",
    "        for img in tqdm(os.listdir(macro_folder_path)):\n",
    "            if img.endswith(\".JPG\"):\n",
    "                img_src = os.path.join(macro_folder_path, img)\n",
    "                image_name = img.split(\".\")[0]\n",
    "                label = image_name[:2]\n",
    "                img_num  = image_name[2:]\n",
    "\n",
    "                Path(os.path.join(OUTPUT_DIR, label)).mkdir(exist_ok=True)\n",
    "                shutil.copy(img_src, os.path.join(OUTPUT_DIR, label, img_num + \".jpg\"))"
   ]
  }
 ],
 "metadata": {
  "kernelspec": {
   "display_name": "tf",
   "language": "python",
   "name": "python3"
  },
  "language_info": {
   "codemirror_mode": {
    "name": "ipython",
    "version": 3
   },
   "file_extension": ".py",
   "mimetype": "text/x-python",
   "name": "python",
   "nbconvert_exporter": "python",
   "pygments_lexer": "ipython3",
   "version": "3.9.13"
  },
  "orig_nbformat": 4
 },
 "nbformat": 4,
 "nbformat_minor": 2
}
