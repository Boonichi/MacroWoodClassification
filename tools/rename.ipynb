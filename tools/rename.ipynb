{
 "cells": [
  {
   "cell_type": "code",
   "execution_count": 2,
   "metadata": {},
   "outputs": [],
   "source": [
    "import os\n",
    "INPUT_DIR = \"../datasets/FSD_M\""
   ]
  },
  {
   "cell_type": "code",
   "execution_count": 5,
   "metadata": {},
   "outputs": [
    {
     "ename": "FileNotFoundError",
     "evalue": "[Errno 2] No such file or directory: '../datasets/FSD_M/40.Erisma uncinatum/63.jpg' -> '../datasets/FSD_M/40.Erisma_uncinatum/63.jpg'",
     "output_type": "error",
     "traceback": [
      "\u001b[0;31m---------------------------------------------------------------------------\u001b[0m",
      "\u001b[0;31mFileNotFoundError\u001b[0m                         Traceback (most recent call last)",
      "\u001b[1;32m/Users/phanvanhung/wood_classification/tools/rename.ipynb Cell 2\u001b[0m in \u001b[0;36m1\n\u001b[1;32m      <a href='vscode-notebook-cell:/Users/phanvanhung/wood_classification/tools/rename.ipynb#W1sZmlsZQ%3D%3D?line=7'>8</a>\u001b[0m \u001b[39mfor\u001b[39;00m img \u001b[39min\u001b[39;00m os\u001b[39m.\u001b[39mlistdir(os\u001b[39m.\u001b[39mpath\u001b[39m.\u001b[39mjoin(folder_path, f)):\n\u001b[1;32m      <a href='vscode-notebook-cell:/Users/phanvanhung/wood_classification/tools/rename.ipynb#W1sZmlsZQ%3D%3D?line=8'>9</a>\u001b[0m     img_path \u001b[39m=\u001b[39m os\u001b[39m.\u001b[39mpath\u001b[39m.\u001b[39mjoin(folder_path , f, img)\n\u001b[0;32m---> <a href='vscode-notebook-cell:/Users/phanvanhung/wood_classification/tools/rename.ipynb#W1sZmlsZQ%3D%3D?line=9'>10</a>\u001b[0m     os\u001b[39m.\u001b[39;49mrename(img_path, img_path\u001b[39m.\u001b[39;49mreplace(\u001b[39m\"\u001b[39;49m\u001b[39m \u001b[39;49m\u001b[39m\"\u001b[39;49m, \u001b[39m\"\u001b[39;49m\u001b[39m_\u001b[39;49m\u001b[39m\"\u001b[39;49m))\n",
      "\u001b[0;31mFileNotFoundError\u001b[0m: [Errno 2] No such file or directory: '../datasets/FSD_M/40.Erisma uncinatum/63.jpg' -> '../datasets/FSD_M/40.Erisma_uncinatum/63.jpg'"
     ]
    }
   ],
   "source": [
    "for folder in os.listdir(INPUT_DIR):\n",
    "    folder_path = os.path.join(INPUT_DIR, folder)\n",
    "    if os.path.isfile(folder_path) == False:\n",
    "        os.rename(folder_path, folder_path.replace(\" \", \"_\"))\n",
    "        folder_path = folder_path.replace(\" \", \"_\")\n",
    "        for f in os.listdir(folder_path):\n",
    "            if os.path.isfile(os.path.join(folder_path, f)) == False:\n",
    "                for img in os.listdir(os.path.join(folder_path, f)):\n",
    "                    img_path = os.path.join(folder_path , f, img)\n",
    "                    os.rename(img_path, img_path.replace(\" \", \"_\"))\n",
    "                "
   ]
  }
 ],
 "metadata": {
  "kernelspec": {
   "display_name": "tf",
   "language": "python",
   "name": "python3"
  },
  "language_info": {
   "codemirror_mode": {
    "name": "ipython",
    "version": 3
   },
   "file_extension": ".py",
   "mimetype": "text/x-python",
   "name": "python",
   "nbconvert_exporter": "python",
   "pygments_lexer": "ipython3",
   "version": "3.9.13"
  },
  "orig_nbformat": 4
 },
 "nbformat": 4,
 "nbformat_minor": 2
}
