{
 "cells": [
  {
   "cell_type": "code",
   "execution_count": 2,
   "metadata": {},
   "outputs": [],
   "source": [
    "import os\n",
    "INPUT_DIR = \"../datasets/\""
   ]
  },
  {
   "cell_type": "code",
   "execution_count": 4,
   "metadata": {},
   "outputs": [],
   "source": [
    "for folder in os.listdir(INPUT_DIR):\n",
    "    if os.path.isfile(os.path.join(INPUT_DIR, folder)) == False:\n",
    "        for f in os.listdir(os.path.join(INPUT_DIR, folder)):\n",
    "            if os.path.isfile(os.path.join(INPUT_DIR, folder, f)) == False:\n",
    "                for img in os.listdir(os.path.join(INPUT_DIR, folder, f)):\n",
    "                    img_path = os.path.join(INPUT_DIR,folder, f, img)\n",
    "                    os.rename(img_path, img_path.replace(\" \", \"_\"))\n",
    "                "
   ]
  }
 ],
 "metadata": {
  "kernelspec": {
   "display_name": "tf",
   "language": "python",
   "name": "python3"
  },
  "language_info": {
   "codemirror_mode": {
    "name": "ipython",
    "version": 3
   },
   "file_extension": ".py",
   "mimetype": "text/x-python",
   "name": "python",
   "nbconvert_exporter": "python",
   "pygments_lexer": "ipython3",
   "version": "3.9.13"
  },
  "orig_nbformat": 4
 },
 "nbformat": 4,
 "nbformat_minor": 2
}
